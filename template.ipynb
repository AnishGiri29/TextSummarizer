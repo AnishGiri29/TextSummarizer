{
 "cells": [
  {
   "cell_type": "code",
   "execution_count": 1,
   "id": "f832aff5",
   "metadata": {},
   "outputs": [],
   "source": [
    "import os\n",
    "from pathlib import Path\n",
    "import logging"
   ]
  },
  {
   "cell_type": "code",
   "execution_count": 2,
   "id": "bf5c6792",
   "metadata": {},
   "outputs": [],
   "source": [
    "logging.basicConfig(level=logging.INFO, format='[%(asctime)s]: %(message)s:')"
   ]
  },
  {
   "cell_type": "code",
   "execution_count": 3,
   "id": "bd80e3bb-31a9-485d-90c1-56f6ee647c1d",
   "metadata": {},
   "outputs": [],
   "source": [
    "project_name='textSummarizer'"
   ]
  },
  {
   "cell_type": "code",
   "execution_count": 12,
   "id": "34c38027-66a6-4b21-9455-7f6be1fc1673",
   "metadata": {},
   "outputs": [],
   "source": [
    "list_of_files=[\n",
    "    \".github/workflows/.gitkeep\", # This is for the deployment CI CD related. Here we write the CICD related EML file. \n",
    "    #It will automatically take the code from github and deploy it in the cloud.\n",
    "    #.gitkeep is just an empty file.\n",
    "    f\"src/{project_name}/__init__.py\", #Constructure file\n",
    "    f\"src/{project_name}/components/__init__.py\",\n",
    "    f\"src/{project_name}/utils/__init__.py\", # Utils related code\n",
    "    f\"src/{project_name}/utils/common.py\", \n",
    "    f\"src/{project_name}/logging/__init__.py\", \n",
    "    f\"src/{project_name}/config/__init__.py\",  \n",
    "    f\"src/{project_name}/config/configuration.py\",  \n",
    "    f\"src/{project_name}/pipeline/__init__.py\",  \n",
    "    f\"src/{project_name}/entity/__init__.py\",  \n",
    "    f\"src/{project_name}/constants/__init__.py\",  \n",
    "    \"config/config.yaml\",\n",
    "    \"params.yaml\",\n",
    "    \"app.py\",\n",
    "    \"main.py\",\n",
    "    \"Dockerfile\",\n",
    "    \"requirements.txt\",\n",
    "    \"setup.py\",\n",
    "    \"research/trails.ipynb\"\n",
    "    ]"
   ]
  },
  {
   "cell_type": "code",
   "execution_count": 16,
   "id": "63f68811-a709-43eb-b9d0-49d2efc3a4d6",
   "metadata": {},
   "outputs": [
    {
     "name": "stderr",
     "output_type": "stream",
     "text": [
      "[2023-09-17 21:37:38,022]: Creating directory:src\\textSummarizer for the file __init__.py:\n",
      "[2023-09-17 21:37:38,024]: Creating empty file: src\\textSummarizer\\__init__.py:\n",
      "[2023-09-17 21:37:38,026]: Creating directory:src\\textSummarizer\\components for the file __init__.py:\n",
      "[2023-09-17 21:37:38,028]: Creating empty file: src\\textSummarizer\\components\\__init__.py:\n",
      "[2023-09-17 21:37:38,030]: Creating directory:src\\textSummarizer\\utils for the file __init__.py:\n",
      "[2023-09-17 21:37:38,032]: Creating empty file: src\\textSummarizer\\utils\\__init__.py:\n",
      "[2023-09-17 21:37:38,033]: Creating directory:src\\textSummarizer\\utils for the file common.py:\n",
      "[2023-09-17 21:37:38,034]: Creating empty file: src\\textSummarizer\\utils\\common.py:\n",
      "[2023-09-17 21:37:38,036]: Creating directory:src\\textSummarizer\\logging for the file __init__.py:\n",
      "[2023-09-17 21:37:38,038]: Creating empty file: src\\textSummarizer\\logging\\__init__.py:\n",
      "[2023-09-17 21:37:38,040]: Creating directory:src\\textSummarizer\\config for the file __init__.py:\n",
      "[2023-09-17 21:37:38,042]: Creating empty file: src\\textSummarizer\\config\\__init__.py:\n",
      "[2023-09-17 21:37:38,043]: Creating directory:src\\textSummarizer\\config for the file configuration.py:\n",
      "[2023-09-17 21:37:38,045]: Creating empty file: src\\textSummarizer\\config\\configuration.py:\n",
      "[2023-09-17 21:37:38,049]: Creating directory:src\\textSummarizer\\pipeline for the file __init__.py:\n",
      "[2023-09-17 21:37:38,052]: Creating empty file: src\\textSummarizer\\pipeline\\__init__.py:\n",
      "[2023-09-17 21:37:38,054]: Creating directory:src\\textSummarizer\\entity for the file __init__.py:\n",
      "[2023-09-17 21:37:38,056]: Creating empty file: src\\textSummarizer\\entity\\__init__.py:\n",
      "[2023-09-17 21:37:38,059]: Creating directory:src\\textSummarizer\\constants for the file __init__.py:\n",
      "[2023-09-17 21:37:38,060]: Creating empty file: src\\textSummarizer\\constants\\__init__.py:\n",
      "[2023-09-17 21:37:38,062]: Creating directory:config for the file config.yaml:\n",
      "[2023-09-17 21:37:38,063]: Creating empty file: config\\config.yaml:\n",
      "[2023-09-17 21:37:38,065]: Creating empty file: params.yaml:\n",
      "[2023-09-17 21:37:38,067]: Creating empty file: app.py:\n",
      "[2023-09-17 21:37:38,068]: Creating empty file: main.py:\n",
      "[2023-09-17 21:37:38,069]: Creating empty file: Dockerfile:\n",
      "[2023-09-17 21:37:38,071]: Creating empty file: requirements.txt:\n",
      "[2023-09-17 21:37:38,072]: Creating empty file: setup.py:\n",
      "[2023-09-17 21:37:38,073]: Creating directory:research for the file trails.ipynb:\n",
      "[2023-09-17 21:37:38,076]: Creating empty file: research\\trails.ipynb:\n"
     ]
    }
   ],
   "source": [
    "for filepath in list_of_files:\n",
    "    filepath=Path(filepath)\n",
    "    filedir, filename = os.path.split(filepath)\n",
    "    if filedir != \"\":\n",
    "        os.makedirs(filedir, exist_ok=True)\n",
    "        logging.info(f\"Creating directory:{filedir} for the file {filename}\")\n",
    "\n",
    "    if((not os.path.exists(filepath)) or (os.path.getsize(filepath)==0)):\n",
    "        with open(filepath,\"w\") as f:\n",
    "            pass\n",
    "            logging.info(f\"Creating empty file: {filepath}\")\n",
    "    else:\n",
    "        logging.info(f\"{filename} already exists\")"
   ]
  },
  {
   "cell_type": "code",
   "execution_count": null,
   "id": "df72c20a-81b3-42ce-a669-ec4ab9e51362",
   "metadata": {},
   "outputs": [],
   "source": []
  },
  {
   "cell_type": "code",
   "execution_count": null,
   "id": "8fb9fcbe-f45f-46d7-a188-1fb8c7d08c59",
   "metadata": {},
   "outputs": [],
   "source": []
  }
 ],
 "metadata": {
  "kernelspec": {
   "display_name": "Python 3 (ipykernel)",
   "language": "python",
   "name": "python3"
  },
  "language_info": {
   "codemirror_mode": {
    "name": "ipython",
    "version": 3
   },
   "file_extension": ".py",
   "mimetype": "text/x-python",
   "name": "python",
   "nbconvert_exporter": "python",
   "pygments_lexer": "ipython3",
   "version": "3.9.17"
  }
 },
 "nbformat": 4,
 "nbformat_minor": 5
}
